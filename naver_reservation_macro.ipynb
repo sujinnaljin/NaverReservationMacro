{
 "cells": [
  {
   "cell_type": "code",
   "execution_count": 1,
   "metadata": {},
   "outputs": [
    {
     "name": "stdout",
     "output_type": "stream",
     "text": [
      "Requirement already satisfied: selenium in c:\\users\\dyyoo\\anaconda3\\lib\\site-packages (3.141.0)\n",
      "Requirement already satisfied: urllib3 in c:\\users\\dyyoo\\anaconda3\\lib\\site-packages (from selenium) (1.25.11)\n",
      "Note: you may need to restart the kernel to use updated packages.\n"
     ]
    }
   ],
   "source": [
    "pip install selenium"
   ]
  },
  {
   "cell_type": "code",
   "execution_count": 26,
   "metadata": {},
   "outputs": [
    {
     "name": "stdout",
     "output_type": "stream",
     "text": [
      "12\n"
     ]
    }
   ],
   "source": [
    "from selenium import webdriver\n",
    "import time\n",
    "\n",
    "def get_reservation(seat_path):\n",
    "    seat_element = driver.find_element_by_xpath(seat_path)\n",
    "    seat_status = seat_element.get_attribute('alt')\n",
    "    return seat_status, seat_element\n",
    "\n",
    "# 크롬 드라이버의 파일 위치를 매개변수로 넣어줌.\n",
    "# sujin = \"/Users/sujikang/Desktop/chromedriver\"\n",
    "# dorong = \"/chromedriver_win32/chromedriver\"\n",
    "driver_path = \"/Users/sujikang/Desktop/chromedriver\"\n",
    "driver = webdriver.Chrome(driver_path)\n",
    "\n",
    "url = 'https://map.naver.com/v5/entry/place/159330481?c=14122634.3334544,4516874.2031988,14,0,0,0,dh'\n",
    "driver.get(url)\n",
    "\n",
    "naver_reservation_window = driver.window_handles\n",
    "\n",
    "# Todo - 애초에 창 띄워놓고 그걸 제어할순 없는지?\n",
    "time.sleep(3)\n",
    "driver.switch_to.frame(driver.find_element_by_id('entryIframe'))\n",
    "\n",
    "# href 태그 바꿔야함. 아마 place 아이디랑 날짜\n",
    "reservation_button = driver.find_element_by_xpath(\"//a[@href='/place/159330481/booking?from=map&ts=20210310']\")\n",
    "reservation_button.click()\n",
    "\n",
    "#예약 페이지 2번째 place_section 클래스 하위 a tag로 접근\n",
    "place_section_list = driver.find_elements_by_class_name('place_section')\n",
    "reservation_item_button = place_section_list[1].find_element_by_xpath(\".//a\")\n",
    "# print(reservation_item_button.get_attribute('href'))\n",
    "reservation_item_button.click()\n",
    "\n",
    "time.sleep(3)# 날짜 선택 \n",
    "calendar_button = driver.find_element_by_class_name('fn-calendar1')\n",
    "calendar_button.click()\n",
    "\n",
    "# todo - 원하는 날짜 입력\n",
    "day_element = driver.find_element_by_xpath(\"//td[@data-cal-datetext='2021-03-13']\")\n",
    "day_element.click()\n",
    "\n",
    "time.sleep(1)\n",
    "time_section_list = driver.find_elements_by_class_name('list_time')\n",
    "time_element_list = map(lambda time_section: time_section.find_elements_by_xpath(\".//li\"), time_section_list)\n",
    "flatten_time_element_list = [y for x in list(semi_result) for y in x]\n",
    "\n",
    "for time_element in flatten_time_element_list: \n",
    "    # 색상\n"
   ]
  },
  {
   "cell_type": "code",
   "execution_count": null,
   "metadata": {},
   "outputs": [],
   "source": []
  }
 ],
 "metadata": {
  "kernelspec": {
   "display_name": "Python 3",
   "language": "python",
   "name": "python3"
  },
  "language_info": {
   "codemirror_mode": {
    "name": "ipython",
    "version": 3
   },
   "file_extension": ".py",
   "mimetype": "text/x-python",
   "name": "python",
   "nbconvert_exporter": "python",
   "pygments_lexer": "ipython3",
   "version": "3.8.5"
  }
 },
 "nbformat": 4,
 "nbformat_minor": 4
}
